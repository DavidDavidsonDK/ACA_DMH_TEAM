{
 "cells": [
  {
   "cell_type": "code",
   "execution_count": 1,
   "metadata": {},
   "outputs": [
    {
     "name": "stdout",
     "output_type": "stream",
     "text": [
      "Decision Tree Accuracy_Mariam =  0.746153846154  ( 0.0624926031126 )\n",
      "Random Forest Tree Accuracy_Hayk =  0.769230769231  ( 0.0516015687115 )\n",
      "Logistic Reg. Accuracy_David =  0.823076923077  ( 0.0670599837468 )\n"
     ]
    }
   ],
   "source": [
    "from runner import evaluate_performance\n",
    "stats = evaluate_performance()\n",
    "print(\"Decision Tree Accuracy_Mariam = \", stats[0, 0], \" (\", stats[0, 1], \")\")\n",
    "print(\"Random Forest Tree Accuracy_Hayk = \", stats[1, 0], \" (\", stats[1, 1], \")\")\n",
    "print(\"Logistic Reg. Accuracy_David = \", stats[2, 0], \" (\", stats[2, 1], \")\")"
   ]
  },
  {
   "cell_type": "code",
   "execution_count": null,
   "metadata": {
    "collapsed": true
   },
   "outputs": [],
   "source": []
  }
 ],
 "metadata": {
  "kernelspec": {
   "display_name": "Python 3",
   "language": "python",
   "name": "python3"
  },
  "language_info": {
   "codemirror_mode": {
    "name": "ipython",
    "version": 3
   },
   "file_extension": ".py",
   "mimetype": "text/x-python",
   "name": "python",
   "nbconvert_exporter": "python",
   "pygments_lexer": "ipython3",
   "version": "3.6.1"
  }
 },
 "nbformat": 4,
 "nbformat_minor": 2
}
