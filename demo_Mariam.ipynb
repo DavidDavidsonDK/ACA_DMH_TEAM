{
 "cells": [
  {
   "cell_type": "code",
   "execution_count": 2,
   "metadata": {
    "collapsed": true
   },
   "outputs": [],
   "source": [
    "from runner import accuracy_score,   DecisionTree, logistic_predict, np, RandomForest"
   ]
  },
  {
   "cell_type": "code",
   "execution_count": 3,
   "metadata": {
    "collapsed": false
   },
   "outputs": [
    {
     "name": "stdout",
     "output_type": "stream",
     "text": [
      "Decision Tree Accuracy_Mariam =  0.746153846154  ( 0.0624926031126 )\n",
      "Random Forest Tree Accuracy_Hayk =  0.769230769231  ( 0.0516015687115 )\n",
      "Logistic Reg. Accuracy_David =  0.823076923077  ( 0.0670599837468 )\n"
     ]
    }
   ],
   "source": [
    "# Load data\n",
    "filename = 'SPECTF.dat'\n",
    "data = np.loadtxt(filename, delimiter=',')\n",
    "X = data[:, 1:]\n",
    "y = np.array([data[:, 0]]).T\n",
    "n = X.shape[0]\n",
    "\n",
    "k_folds = 10\n",
    "n = int(X.shape[0]/k_folds)* k_folds\n",
    "\n",
    "all_accuracies_tree = list()\n",
    "all_accuracies_randforest = list()\n",
    "all_accuracies_log = list()\n",
    "\n",
    "\n",
    "for trial in range(1):\n",
    "\n",
    "    idx = np.arange(n)\n",
    "    np.random.seed(trial)\n",
    "    np.random.shuffle(idx)\n",
    "    indexes = np.split(idx, k_folds)\n",
    "\n",
    "    for i in range(k_folds):\n",
    "\n",
    "        train_set = list(indexes)\n",
    "\n",
    "        a = train_set[i]\n",
    "        train_set.pop(i)\n",
    "\n",
    "        Xtest = X[a]\n",
    "        ytest = y[a]\n",
    "        \n",
    "        Xtrain = []\n",
    "        ytrain = []\n",
    "        for ff in train_set:\n",
    "            for row1, row2 in zip(X[ff], y[ff]):\n",
    "                Xtrain.append(row1)\n",
    "                ytrain.append(row2)\n",
    "\n",
    "        # train the decision tree\n",
    "        classifier = DecisionTree(100)\n",
    "        classifier.fit(Xtrain, ytrain)\n",
    "        y_pred = classifier.predict(Xtest)\n",
    "        accuracy1 = accuracy_score(ytest, y_pred)\n",
    "        all_accuracies_tree.append(accuracy1)\n",
    "\n",
    "\n",
    "        #train the random forest\n",
    "        classifier1 = RandomForest(25, 50, 0.25)\n",
    "        X_radfor = np.matrix(X)\n",
    "        X_train_randfor = np.matrix(Xtrain)\n",
    "        X_test_randfor = np.matrix(Xtest)\n",
    "        Y_train_randfor = np.array(ytrain)\n",
    "        Y_test_randfor = np.array(ytest)\n",
    "        classifier1.fit(X_train_randfor, Y_train_randfor)\n",
    "        y_pred2 = classifier1.predict(X_test_randfor)\n",
    "        accuracy2 = accuracy_score(ytest, y_pred2[0])\n",
    "        all_accuracies_randforest.append(accuracy2)\n",
    "\n",
    "\n",
    "        # train by logostic regrresion\n",
    "        y_pred = logistic_predict(Xtrain, ytrain, Xtest, ytest)\n",
    "        accuracy3 = accuracy_score(ytest, y_pred)\n",
    "        all_accuracies_log.append(accuracy3)\n",
    "\n",
    "\n",
    "# compute the training accuracies of the model\n",
    "meanDecisionTreeAccuracy = np.mean(all_accuracies_tree)\n",
    "stddevDecisionTreeAccuracy = np.std(all_accuracies_tree)\n",
    "\n",
    "meanRandomForestAccuracy = np.mean(all_accuracies_randforest)\n",
    "stddevRandomForestAccuracy = np.std(all_accuracies_randforest)\n",
    "\n",
    "meanLogisticRegressionAccuracy = np.mean(all_accuracies_log)\n",
    "stddevLogisticRegressionAccuracy = np.std(all_accuracies_log)\n",
    "\n",
    "\n",
    "\n",
    "stats = np.zeros((3, 2))\n",
    "stats[0, 0] = meanDecisionTreeAccuracy\n",
    "stats[0, 1] = stddevDecisionTreeAccuracy\n",
    "stats[1, 0] = meanRandomForestAccuracy\n",
    "stats[1, 1] = stddevRandomForestAccuracy\n",
    "stats[2, 0] = meanLogisticRegressionAccuracy\n",
    "stats[2, 1] = stddevLogisticRegressionAccuracy\n",
    "\n",
    "\n",
    "print(\"Decision Tree Accuracy_Mariam = \", stats[0, 0], \" (\", stats[0, 1], \")\")\n",
    "print(\"Random Forest Tree Accuracy_Hayk = \", stats[1, 0], \" (\", stats[1, 1], \")\")\n",
    "print(\"Logistic Reg. Accuracy_David = \", stats[2, 0], \" (\", stats[2, 1], \")\")"
   ]
  },
  {
   "cell_type": "code",
   "execution_count": null,
   "metadata": {
    "collapsed": true
   },
   "outputs": [],
   "source": []
  }
 ],
 "metadata": {
  "kernelspec": {
   "display_name": "Python 3",
   "language": "python",
   "name": "python3"
  },
  "language_info": {
   "codemirror_mode": {
    "name": "ipython",
    "version": 3
   },
   "file_extension": ".py",
   "mimetype": "text/x-python",
   "name": "python",
   "nbconvert_exporter": "python",
   "pygments_lexer": "ipython3",
   "version": "3.6.0"
  }
 },
 "nbformat": 4,
 "nbformat_minor": 2
}
