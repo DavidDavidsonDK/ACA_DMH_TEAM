{
 "cells": [
  {
   "cell_type": "code",
   "execution_count": 7,
   "metadata": {
    "collapsed": true
   },
   "outputs": [],
   "source": [
    "from runner import evaluate_performance"
   ]
  },
  {
   "cell_type": "code",
   "execution_count": 8,
   "metadata": {
    "collapsed": false
   },
   "outputs": [
    {
     "name": "stdout",
     "output_type": "stream",
     "text": [
      "Decision Tree Accuracy =  0.74776119403  ( 0.0454917929974 )\n",
      "Random Forest Tree Accuracy =  0.805970149254  ( 0.044776119403 )\n",
      "Logistic Reg. Accuracy =  0.798507462687  ( 0.039063439786 )\n"
     ]
    }
   ],
   "source": [
    "\"\"\"\n",
    "accuracy_score() computes the number of well predicted / number of all examples\n",
    "evaluate_performance() function evaluates the performance of decision trees, random forests and logistic regression,\n",
    "average over 1,000 trials and \n",
    "returns a 3x3 matrix stats that contains mean accuracies and standard deviation of accuracies(written in brackets)\n",
    "\"\"\"\n",
    "stats = evaluate_performance()\n",
    "print (\"Decision Tree Accuracy = \", stats[0, 0], \" (\", stats[0, 1], \")\")\n",
    "print (\"Random Forest Tree Accuracy = \", stats[1, 0], \" (\", stats[1, 1], \")\")\n",
    "print (\"Logistic Reg. Accuracy = \", stats[2, 0], \" (\", stats[2, 1], \")\")"
   ]
  },
  {
   "cell_type": "code",
   "execution_count": null,
   "metadata": {
    "collapsed": true
   },
   "outputs": [],
   "source": []
  }
 ],
 "metadata": {
  "kernelspec": {
   "display_name": "Python 3",
   "language": "python",
   "name": "python3"
  },
  "language_info": {
   "codemirror_mode": {
    "name": "ipython",
    "version": 3
   },
   "file_extension": ".py",
   "mimetype": "text/x-python",
   "name": "python",
   "nbconvert_exporter": "python",
   "pygments_lexer": "ipython3",
   "version": "3.6.0"
  }
 },
 "nbformat": 4,
 "nbformat_minor": 2
}
