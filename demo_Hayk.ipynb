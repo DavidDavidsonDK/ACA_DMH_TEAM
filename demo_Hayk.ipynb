{
 "cells": [
  {
   "cell_type": "code",
   "execution_count": 3,
   "metadata": {
    "collapsed": true
   },
   "outputs": [],
   "source": [
    "from runner import evaluate_performance"
   ]
  },
  {
   "cell_type": "code",
   "execution_count": 4,
   "metadata": {
    "collapsed": false
   },
   "outputs": [
    {
     "name": "stdout",
     "output_type": "stream",
     "text": [
      "Decision Tree Accuracy_Mariam =  0.740384615385  ( 0.101668768368 )\n",
      "Random Forest Tree Accuracy_Hayk =  0.75  ( 0.11113987136 )\n",
      "Logistic Reg. Accuracy_David =  0.811538461538  ( 0.0814985388478 )\n"
     ]
    }
   ],
   "source": [
    "\"\"\"\n",
    "evaluate_performance() method evaluates the performance of decision trees, random forests and logistic regression,\n",
    "average over 1 trial of 10-fold cross validation.\n",
    "The stats matrix contains the main of accuracies and standart deviations of accuracies(written in brackets).\n",
    "\"\"\"\n",
    "stats = evaluate_performance()\n",
    "print(\"Decision Tree Accuracy_Mariam = \", stats[0, 0], \" (\", stats[0, 1], \")\")\n",
    "print(\"Random Forest Tree Accuracy_Hayk = \", stats[1, 0], \" (\", stats[1, 1], \")\")\n",
    "print(\"Logistic Reg. Accuracy_David = \", stats[2, 0], \" (\", stats[2, 1], \")\")"
   ]
  },
  {
   "cell_type": "code",
   "execution_count": null,
   "metadata": {
    "collapsed": true
   },
   "outputs": [],
   "source": []
  }
 ],
 "metadata": {
  "kernelspec": {
   "display_name": "Python 3",
   "language": "python",
   "name": "python3"
  }
 },
 "nbformat": 4,
 "nbformat_minor": 2
}
