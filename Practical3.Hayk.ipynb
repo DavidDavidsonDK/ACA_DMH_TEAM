{
 "cells": [
  {
   "cell_type": "code",
   "execution_count": 3,
   "metadata": {
    "collapsed": true
   },
   "outputs": [],
   "source": [
    "from runner import evaluate_performance"
   ]
  },
  {
   "cell_type": "code",
   "execution_count": 4,
   "metadata": {
    "collapsed": false
   },
   "outputs": [
    {
     "name": "stdout",
     "output_type": "stream",
     "text": [
      "Decision Tree Accuracy =  0.730769230769  ( 0.0654976398689 )\n",
      "Random Forest Tree Accuracy =  0.771153846154  ( 0.063752247901 )\n",
      "Logistic Reg. Accuracy =  0.813461538462  ( 0.065807456278 )\n"
     ]
    }
   ],
   "source": [
    "\"\"\"\n",
    "evaluate_performance() method evaluates the performance of decision trees, random forests and logistic regression,\n",
    "average over 1 trial of 10-fold cross validation.\n",
    "The stats matrix contains the main of accuracies and standart deviations of accuracies(written in brackets).\n",
    "\"\"\"\n",
    "stats = evaluate_performance()\n",
    "print (\"Decision Tree Accuracy = \", stats[0, 0], \" (\", stats[0, 1], \")\")\n",
    "print (\"Random Forest Tree Accuracy = \", stats[1, 0], \" (\", stats[1, 1], \")\")\n",
    "print (\"Logistic Reg. Accuracy = \", stats[2, 0], \" (\", stats[2, 1], \")\")"
   ]
  },
  {
   "cell_type": "code",
   "execution_count": null,
   "metadata": {
    "collapsed": true
   },
   "outputs": [],
   "source": []
  }
 ],
 "metadata": {
  "kernelspec": {
   "display_name": "Python 3",
   "language": "python",
   "name": "python3"
  },
  "language_info": {
   "codemirror_mode": {
    "name": "ipython",
    "version": 3
   },
   "file_extension": ".py",
   "mimetype": "text/x-python",
   "name": "python",
   "nbconvert_exporter": "python",
   "pygments_lexer": "ipython3",
   "version": "3.6.0"
  }
 },
 "nbformat": 4,
 "nbformat_minor": 2
}
